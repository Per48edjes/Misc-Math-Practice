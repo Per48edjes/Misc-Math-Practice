{
 "cells": [
  {
   "cell_type": "markdown",
   "id": "311c97e0",
   "metadata": {},
   "source": [
    "# MIT 18.05: Selected Problems & Exercises\n",
    "Ravi Dayabhai"
   ]
  },
  {
   "cell_type": "code",
   "execution_count": 1,
   "id": "06e651d3",
   "metadata": {},
   "outputs": [],
   "source": [
    "%load_ext autoreload\n",
    "%autoreload 2\n",
    "%config InlineBackend.figure_format = 'retina'"
   ]
  },
  {
   "cell_type": "code",
   "execution_count": 2,
   "id": "5e45872a",
   "metadata": {},
   "outputs": [],
   "source": [
    "import numpy as np\n",
    "import pandas as pd\n",
    "from scipy.stats import geom, norm\n",
    "from scipy.special import comb\n",
    "\n",
    "import matplotlib.pyplot as plt"
   ]
  },
  {
   "cell_type": "markdown",
   "id": "331e5c93",
   "metadata": {},
   "source": [
    "## Counting\n",
    "\n",
    "Assume the traditional \"Birthday problem\" set up. Calculate the probability that some trio in a group of $n$ people have the same birthday."
   ]
  },
  {
   "cell_type": "code",
   "execution_count": 3,
   "id": "ec3eb10b",
   "metadata": {},
   "outputs": [],
   "source": [
    "# Define simulation\n",
    "def birthday_triplet_sim(n: int, trials: int) -> float:\n",
    "    trial_ct = 0\n",
    "    success_ct = 0\n",
    "    for _ in range(trials):\n",
    "        trial_ct += 1\n",
    "        group = np.random.randint(1, 365 + 1, n)\n",
    "        (unique, counts) = np.unique(group, return_counts=True)\n",
    "        if any(filter(lambda x: x >= 3, counts)):\n",
    "            success_ct += 1\n",
    "    return success_ct / trial_ct"
   ]
  },
  {
   "cell_type": "markdown",
   "id": "a54b6e6a",
   "metadata": {},
   "source": [
    "What is minimum $n$ such that the probability of this event is at least $\\frac{1}{2}$?"
   ]
  },
  {
   "cell_type": "code",
   "execution_count": 4,
   "id": "76750457",
   "metadata": {},
   "outputs": [
    {
     "name": "stdout",
     "output_type": "stream",
     "text": [
      "Average probability, 10 experiments: 0.49822\n",
      "Average probability, 10 experiments: 0.50907\n"
     ]
    }
   ],
   "source": [
    "# Run 10k trials\n",
    "trials = 10_000\n",
    "experiments = 10\n",
    "ns = [87, 88]\n",
    "\n",
    "for n in ns:\n",
    "    experiment_results = [birthday_triplet_sim(n, trials) for _ in range(experiments)]\n",
    "    print(f\"Average probability, {experiments} experiments: {np.mean(experiment_results)}\")"
   ]
  },
  {
   "cell_type": "markdown",
   "id": "31c3ed9f",
   "metadata": {},
   "source": [
    "## Distributions"
   ]
  },
  {
   "cell_type": "markdown",
   "id": "22d253de",
   "metadata": {},
   "source": [
    "### Geometric\n",
    "\n",
    "Suppose that the inhabitants of an island plan their families by having babies until the first girl is born. Assume the probability of having a girl with each pregnancy is 0.5 independent of other pregnancies, that all babies survive and there are no multiple births. What is the probability that a family has $k$ boys?"
   ]
  },
  {
   "cell_type": "code",
   "execution_count": 5,
   "id": "823c0b89",
   "metadata": {},
   "outputs": [
    {
     "name": "stdout",
     "output_type": "stream",
     "text": [
      "The probability of having 0 boys: 0.50000\n",
      "The probability of having 1 boys: 0.25000\n",
      "The probability of having 2 boys: 0.12500\n",
      "The probability of having 3 boys: 0.06250\n",
      "The probability of having 4 boys: 0.03125\n",
      "The probability of having 5 boys: 0.01562\n",
      "The probability of having 6 boys: 0.00781\n",
      "The probability of having 7 boys: 0.00391\n",
      "The probability of having 8 boys: 0.00195\n",
      "The probability of having 9 boys: 0.00098\n",
      "The probability of having 10 boys: 0.00049\n",
      "The probability of having 11 boys: 0.00024\n",
      "The probability of having 12 boys: 0.00012\n",
      "The probability of having 13 boys: 0.00006\n",
      "The probability of having 14 boys: 0.00003\n",
      "The probability of having 15 boys: 0.00002\n",
      "The probability of having 16 boys: 0.00001\n",
      "The probability of having 17 boys: 0.00000\n",
      "The probability of having 18 boys: 0.00000\n",
      "The probability of having 19 boys: 0.00000\n",
      "The probability of having 20 boys: 0.00000\n"
     ]
    }
   ],
   "source": [
    "# Geometric PDF (up to a point)\n",
    "p = 0.5\n",
    "loc = -1\n",
    "for k in range(20 + 1):\n",
    "    print(f\"The probability of having {k} boys:\", f\"{geom.pmf(k, p, loc):.5f}\")"
   ]
  },
  {
   "cell_type": "markdown",
   "id": "b382f5a2",
   "metadata": {},
   "source": [
    "What about the ratio of boys to girls on the island?"
   ]
  },
  {
   "cell_type": "code",
   "execution_count": 6,
   "id": "ca1c571c",
   "metadata": {},
   "outputs": [
    {
     "data": {
      "text/plain": [
       "1.0"
      ]
     },
     "execution_count": 6,
     "metadata": {},
     "output_type": "execute_result"
    }
   ],
   "source": [
    "# Expectation of Geometric distribution\n",
    "geom.mean(p, loc)"
   ]
  },
  {
   "cell_type": "markdown",
   "id": "2a2f9907",
   "metadata": {},
   "source": [
    "### Runs"
   ]
  },
  {
   "cell_type": "markdown",
   "id": "8a6f78ad",
   "metadata": {},
   "source": [
    "A run is a sequence of all $1$s or $0$s. For this problem, consider sequence of 50 Bernoulli random variables where $p = 0.5$."
   ]
  },
  {
   "cell_type": "code",
   "execution_count": 7,
   "id": "df9a486d",
   "metadata": {},
   "outputs": [],
   "source": [
    "def longest_runs_sim(n: int = 50) -> int:\n",
    "    # Random sequence where each n_i is element of {0, 1}\n",
    "    seq = np.random.randint(0, 1+1, n)\n",
    "\n",
    "    longest_runs = {1: None, 0: None}\n",
    "    for i, outcome in enumerate([~seq, seq]):\n",
    "        runs = \\\n",
    "            np.diff( # Diff of indices counts runs\n",
    "                np.where( \n",
    "                    np.concatenate( # Checks if next value is different; if yes, then 1\n",
    "                        # Note: Concatenation deals with edge cases\n",
    "                        ([outcome[0]], outcome[:-1] != outcome[1:], [True])\n",
    "                    )\n",
    "                )[0] # Returns indices for whenever value switches\n",
    "            )[::2] # Only return the diffs for the 1s\n",
    "        longest_runs[i] = runs.max()\n",
    "\n",
    "    # Longest runs (0s or 1s) and sequence\n",
    "    return max(longest_runs.values()), seq"
   ]
  },
  {
   "cell_type": "markdown",
   "id": "19740a11",
   "metadata": {},
   "source": [
    "What's the average length of a \"longest run\"?"
   ]
  },
  {
   "cell_type": "code",
   "execution_count": 8,
   "id": "8c3f5c07",
   "metadata": {},
   "outputs": [
    {
     "data": {
      "text/plain": [
       "5.5159"
      ]
     },
     "execution_count": 8,
     "metadata": {},
     "output_type": "execute_result"
    }
   ],
   "source": [
    "# Calculate average longest run\n",
    "trials = 10_000\n",
    "results = []\n",
    "for _ in range(trials):\n",
    "    results.append(longest_runs_sim(50)[0])\n",
    "\n",
    "# Longest runs average\n",
    "sum(results) / len(results)"
   ]
  },
  {
   "cell_type": "markdown",
   "id": "25ac0af5",
   "metadata": {},
   "source": [
    "If $Y$ the the length of the \"longest run\" in a series of $n=50$ fair coin flips, what is $P(Y \\geq 8)$?"
   ]
  },
  {
   "cell_type": "code",
   "execution_count": 9,
   "id": "1369abcf",
   "metadata": {},
   "outputs": [
    {
     "data": {
      "text/plain": [
       "0.1239"
      ]
     },
     "execution_count": 9,
     "metadata": {},
     "output_type": "execute_result"
    }
   ],
   "source": [
    "event_ct = 0\n",
    "for _ in range(trials):\n",
    "    if longest_runs_sim(50)[0] >= 8:\n",
    "        event_ct += 1\n",
    "\n",
    "# Estimate probability of a longest run in 50 flips >= 8\n",
    "event_ct / trials"
   ]
  },
  {
   "cell_type": "markdown",
   "id": "228032a8",
   "metadata": {},
   "source": [
    "## Continuous Distributions"
   ]
  },
  {
   "cell_type": "markdown",
   "id": "f9902ef4",
   "metadata": {},
   "source": [
    "### Standard Normal\n",
    "\n",
    "Below, we practice computing probabilities using SciPy's standard normal class."
   ]
  },
  {
   "cell_type": "code",
   "execution_count": 10,
   "id": "79a86f14",
   "metadata": {},
   "outputs": [
    {
     "name": "stdout",
     "output_type": "stream",
     "text": [
      "P(Z < 1.5) = 0.933\n",
      "P(-1 < Z < 1) = 0.683\n"
     ]
    }
   ],
   "source": [
    "z_1 = 1.5\n",
    "z_2 = -1\n",
    "z_3 = 1\n",
    "\n",
    "print(f\"P(Z < {z_1}) = {round(norm.cdf(z_1), 3)}\")\n",
    "print(f\"P({z_2} < Z < {z_3}) = {round(norm.cdf(z_3) - norm.cdf(z_2), 3)}\")"
   ]
  },
  {
   "cell_type": "markdown",
   "id": "b0ce6bb9",
   "metadata": {},
   "source": [
    "The length of human gestation is well-approximated by a normal distribution with mean μ = 280 days and standard deviation σ = 8.5 days. Graph the PDF and CDF a random variable distributed according to this distribution."
   ]
  },
  {
   "cell_type": "code",
   "execution_count": 11,
   "id": "7c54f4ed",
   "metadata": {},
   "outputs": [
    {
     "data": {
      "image/png": "[encoded data removed]",
      "text/plain": [
       "<Figure size 432x288 with 1 Axes>"
      ]
     },
     "metadata": {
      "image/png": {
       "height": 248,
       "width": 378
      },
      "needs_background": "light"
     },
     "output_type": "display_data"
    }
   ],
   "source": [
    "mu = 280\n",
    "sigma = 8.5\n",
    "\n",
    "z = np.linspace(norm.ppf(0.01), norm.ppf(.99), 100)\n",
    "x = sigma * z + mu\n",
    "plt.plot(x, norm.pdf(x, loc=mu, scale=sigma), lw=5, alpha=0.6, label='norm pdf')\n",
    "plt.show()"
   ]
  },
  {
   "cell_type": "markdown",
   "id": "0817938a",
   "metadata": {},
   "source": [
    "The probability of giving birth μ-7 days or earlier assuming the above distribution is calculated as $P(X < \\mu - 7)$."
   ]
  },
  {
   "cell_type": "code",
   "execution_count": 12,
   "id": "134ce483",
   "metadata": {},
   "outputs": [
    {
     "data": {
      "text/plain": [
       "0.2051034993461297"
      ]
     },
     "execution_count": 12,
     "metadata": {},
     "output_type": "execute_result"
    }
   ],
   "source": [
    "norm.cdf(mu-7, loc=mu, scale=sigma)"
   ]
  },
  {
   "cell_type": "markdown",
   "id": "6e1fee30",
   "metadata": {},
   "source": [
    "### Binomial $\\rightarrow$ Normal\n",
    "\n",
    "Let's explore how, in the limiting case under special conditions, the Binomial approximates the Normal.\n",
    "\n",
    "#### Claim\n",
    "\n",
    "Because $Y \\sim \\text{Bin}(n, p)$ can be expressed as $\\sum_{i=1}^{n} X_{i}$ for $X_{i} \\stackrel{\\text{i.i.d.}}{\\sim} \\text{Bern}(p)$), we can use the Central Limit Theorem (CLT) provided that $n$ is sufficiently large. Specifically, the CLT tells us:\n",
    "\n",
    "$$\n",
    "\\begin{align}\n",
    "Z  &= \\frac{Y - \\mu_{Y}}{\\sigma_{Y}} \\stackrel{d}{\\rightarrow} \\mathcal{N}(0,1)\\\\\n",
    "Z  &= \\frac{Y - np}{\\sqrt{npq}}\\\\\n",
    "\\end{align}\n",
    "$$\n",
    "\n",
    "#### Justification\n",
    "\n",
    "Notice that getting from the above to a more familiar incarnation of the CLT for a Bernoulli random variable $X$ is just a matter of transforming $Y$; said another way, $\\frac{Y}{n} = \\bar{X_{n}}$ is a sampled mean and we know that the sampling distribution of the sample mean is Normal.\n",
    "\n",
    "$$\n",
    "\\begin{align}\n",
    "\\frac{Y}{n} = \\bar{X_{n}} \\implies Z &= \\frac{\\frac{Y}{n} - \\mu_{\\bar{X_{n}}}}{\\sigma_{\\bar{X_{n}}}} \\stackrel{d}{\\rightarrow} \\mathcal{N}(0,1)\\\\\n",
    "Z  &= \\sqrt{n}\\frac{\\bar{X_{n}} - p}{\\sqrt{pq}} = \\sqrt{n}\\frac{\\hat{p_{n}} - p}{\\sqrt{pq}}\\\\\n",
    "\\end{align}\n",
    "$$\n",
    "\n",
    "So, to get from the bottom relationship to the top we can simply multiply the numerator and denominator on the right-hand side by $n$!"
   ]
  },
  {
   "cell_type": "markdown",
   "id": "b4503539",
   "metadata": {},
   "source": [
    "## Expectation & Variance (Univariate)"
   ]
  },
  {
   "cell_type": "markdown",
   "id": "3793c318",
   "metadata": {},
   "source": [
    "Suppose you are playing a game where you roll two dice. The payoff function can be described as:\n",
    "\n",
    "$$\n",
    "Y_{i, j} = ij - 10\n",
    "$$\n",
    "\n",
    "1. What's the expected payoff for this game? \n",
    "2. Is this a better game to play versus a game where you win \\\\$500 on rolling a 7 (this game sums the dice values) and lose \\\\$100 otherwise?"
   ]
  },
  {
   "cell_type": "code",
   "execution_count": 13,
   "id": "d487354e",
   "metadata": {},
   "outputs": [
    {
     "data": {
      "text/plain": [
       "2.25"
      ]
     },
     "execution_count": 13,
     "metadata": {},
     "output_type": "execute_result"
    }
   ],
   "source": [
    "# Create two dice arrays\n",
    "dice_1 = np.arange(1, 6+1)\n",
    "dice_2 = dice_1.copy()\n",
    "\n",
    "# Construct sample space, probability space, and outcomes\n",
    "sample_space = np.array([np.tile(dice_1, len(dice_2)), \n",
    "                     np.repeat(dice_2, len(dice_1))])\n",
    "rv_value = np.prod(sample_space, axis=0, keepdims=True) - 10\n",
    "prob_distribution = np.full_like(rv_value, 1/sample_space.shape[1], dtype='float')\n",
    "\n",
    "# Expected value of playing this dice game\n",
    "expected_value = rv_value.dot(prob_distribution.transpose()).item(0)\n",
    "expected_value"
   ]
  },
  {
   "cell_type": "markdown",
   "id": "48119a49",
   "metadata": {},
   "source": [
    "This is a better game than the alternative because the alternative's expected value is 0!"
   ]
  }
 ],
 "metadata": {
  "kernelspec": {
   "display_name": "Python 3",
   "language": "python",
   "name": "python3"
  },
  "language_info": {
   "codemirror_mode": {
    "name": "ipython",
    "version": 3
   },
   "file_extension": ".py",
   "mimetype": "text/x-python",
   "name": "python",
   "nbconvert_exporter": "python",
   "pygments_lexer": "ipython3",
   "version": "3.8.6"
  }
 },
 "nbformat": 4,
 "nbformat_minor": 5
}
