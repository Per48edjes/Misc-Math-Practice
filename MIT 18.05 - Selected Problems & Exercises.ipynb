{
 "cells": [
  {
   "cell_type": "markdown",
   "id": "311c97e0",
   "metadata": {},
   "source": [
    "# MIT 18.05: Selected Problems & Exercises\n",
    "Ravi Dayabhai"
   ]
  },
  {
   "cell_type": "code",
   "execution_count": 1,
   "id": "06e651d3",
   "metadata": {},
   "outputs": [],
   "source": [
    "%load_ext autoreload\n",
    "%autoreload 2\n",
    "%config InlineBackend.figure_format = 'retina'"
   ]
  },
  {
   "cell_type": "code",
   "execution_count": 2,
   "id": "5e45872a",
   "metadata": {},
   "outputs": [],
   "source": [
    "import numpy as np\n",
    "import pandas as pd\n",
    "from scipy.stats import geom"
   ]
  },
  {
   "cell_type": "markdown",
   "id": "31c3ed9f",
   "metadata": {},
   "source": [
    "## Discrete Distributions"
   ]
  },
  {
   "cell_type": "markdown",
   "id": "487bf27d",
   "metadata": {},
   "source": [
    "### Binomial $\\rightarrow$ Normal\n",
    "\n",
    "Let's explore how, in the limiting case under special conditions, the Binomial approximates the Normal.\n",
    "\n",
    "#### Claim\n",
    "\n",
    "Because $Y \\sim \\text{Bin}(n, p)$ can be expressed as $\\sum_{i=1}^{n} X_{i}$ for $X_{i} \\stackrel{\\text{i.i.d.}}{\\sim} \\text{Bern}(p)$), we can use the Central Limit Theorem (CLT) provided that $n$ is sufficiently large. Specifically, the CLT tells us:\n",
    "\n",
    "$$\n",
    "\\begin{align}\n",
    "Z  &= \\frac{Y - \\mu_{Y}}{\\sigma_{Y}} \\stackrel{d}{\\rightarrow} \\mathcal{N}(0,1)\\\\\n",
    "Z  &= \\frac{Y - np}{\\sqrt{npq}}\\\\\n",
    "\\end{align}\n",
    "$$\n",
    "\n",
    "#### Justification\n",
    "\n",
    "Notice that getting from the above to a more familiar incarnation of the CLT for a Bernoulli random variable $X$ is just a matter of transforming $Y$; said another way, $\\frac{Y}{n} = \\bar{X_{n}}$ is a sampled mean and we know that the sampling distribution of the sample mean is Normal.\n",
    "\n",
    "$$\n",
    "\\begin{align}\n",
    "\\frac{Y}{n} = \\bar{X_{n}} \\implies Z &= \\frac{\\frac{Y}{n} - \\mu_{\\bar{X_{n}}}}{\\sigma_{\\bar{X_{n}}}} \\stackrel{d}{\\rightarrow} \\mathcal{N}(0,1)\\\\\n",
    "Z  &= \\sqrt{n}\\frac{\\bar{X_{n}} - p}{\\sqrt{pq}} = \\sqrt{n}\\frac{\\hat{p_{n}} - p}{\\sqrt{pq}}\\\\\n",
    "\\end{align}\n",
    "$$\n",
    "\n",
    "So, to get from the bottom relationship to the top we can simply multiply the numerator and denominator on the right-hand side by $n$!"
   ]
  },
  {
   "cell_type": "markdown",
   "id": "22d253de",
   "metadata": {},
   "source": [
    "### Geometric\n",
    "\n",
    "Suppose that the inhabitants of an island plan their families by having babies until the first girl is born. Assume the probability of having a girl with each pregnancy is 0.5 independent of other pregnancies, that all babies survive and there are no multiple births. What is the probability that a family has $k$ boys?"
   ]
  },
  {
   "cell_type": "code",
   "execution_count": 3,
   "id": "823c0b89",
   "metadata": {},
   "outputs": [
    {
     "name": "stdout",
     "output_type": "stream",
     "text": [
      "The probability of having 0 boys: 0.50000\n",
      "The probability of having 1 boys: 0.25000\n",
      "The probability of having 2 boys: 0.12500\n",
      "The probability of having 3 boys: 0.06250\n",
      "The probability of having 4 boys: 0.03125\n",
      "The probability of having 5 boys: 0.01562\n",
      "The probability of having 6 boys: 0.00781\n",
      "The probability of having 7 boys: 0.00391\n",
      "The probability of having 8 boys: 0.00195\n",
      "The probability of having 9 boys: 0.00098\n",
      "The probability of having 10 boys: 0.00049\n",
      "The probability of having 11 boys: 0.00024\n",
      "The probability of having 12 boys: 0.00012\n",
      "The probability of having 13 boys: 0.00006\n",
      "The probability of having 14 boys: 0.00003\n",
      "The probability of having 15 boys: 0.00002\n",
      "The probability of having 16 boys: 0.00001\n",
      "The probability of having 17 boys: 0.00000\n",
      "The probability of having 18 boys: 0.00000\n",
      "The probability of having 19 boys: 0.00000\n",
      "The probability of having 20 boys: 0.00000\n"
     ]
    }
   ],
   "source": [
    "# Geometric PDF (up to a point)\n",
    "p = 0.5\n",
    "loc = -1\n",
    "for k in range(20 + 1):\n",
    "    print(f\"The probability of having {k} boys:\", f\"{geom.pmf(k, p, loc):.5f}\")"
   ]
  },
  {
   "cell_type": "markdown",
   "id": "b382f5a2",
   "metadata": {},
   "source": [
    "What about the ratio of boys to girls on the island?"
   ]
  },
  {
   "cell_type": "code",
   "execution_count": 4,
   "id": "ca1c571c",
   "metadata": {},
   "outputs": [
    {
     "data": {
      "text/plain": [
       "1.0"
      ]
     },
     "execution_count": 4,
     "metadata": {},
     "output_type": "execute_result"
    }
   ],
   "source": [
    "# Expectation of Geometric distribution\n",
    "geom.mean(p, loc)"
   ]
  },
  {
   "cell_type": "markdown",
   "id": "b4503539",
   "metadata": {},
   "source": [
    "### Expectation"
   ]
  },
  {
   "cell_type": "markdown",
   "id": "3793c318",
   "metadata": {},
   "source": [
    "Suppose you are playing a game where you roll two dice. The payoff function can be described as:\n",
    "\n",
    "$$\n",
    "Y_{i, j} = ij - 10\n",
    "$$\n",
    "\n",
    "1. What's the expected payoff for this game? \n",
    "2. Is this a better game to play versus a game where you win \\\\$500 on rolling a 7 (this game sums the dice values) and lose \\\\$100 otherwise?"
   ]
  },
  {
   "cell_type": "code",
   "execution_count": 5,
   "id": "d487354e",
   "metadata": {},
   "outputs": [
    {
     "data": {
      "text/plain": [
       "2.25"
      ]
     },
     "execution_count": 5,
     "metadata": {},
     "output_type": "execute_result"
    }
   ],
   "source": [
    "# Create two dice arrays\n",
    "dice_1 = np.arange(1, 6+1)\n",
    "dice_2 = dice_1.copy()\n",
    "\n",
    "# Construct sample space, probability space, and outcomes\n",
    "sample_space = np.array([np.tile(dice_1, len(dice_2)), \n",
    "                     np.repeat(dice_2, len(dice_1))])\n",
    "rv_value = np.prod(sample_space, axis=0, keepdims=True) - 10\n",
    "prob_distribution = np.full_like(rv_value, 1/sample_space.shape[1], dtype='float')\n",
    "\n",
    "# Expected value of playing this dice game\n",
    "expected_value = rv_value.dot(prob_distribution.transpose()).item(0)\n",
    "expected_value"
   ]
  },
  {
   "cell_type": "markdown",
   "id": "48119a49",
   "metadata": {},
   "source": [
    "This is better game than the alternative because the alternative's expected value is 0!"
   ]
  }
 ],
 "metadata": {
  "kernelspec": {
   "display_name": "Python 3",
   "language": "python",
   "name": "python3"
  },
  "language_info": {
   "codemirror_mode": {
    "name": "ipython",
    "version": 3
   },
   "file_extension": ".py",
   "mimetype": "text/x-python",
   "name": "python",
   "nbconvert_exporter": "python",
   "pygments_lexer": "ipython3",
   "version": "3.8.6"
  }
 },
 "nbformat": 4,
 "nbformat_minor": 5
}
