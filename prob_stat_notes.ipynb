{
 "cells": [
  {
   "cell_type": "markdown",
   "id": "311c97e0",
   "metadata": {},
   "source": [
    "# Probability & Statistics Notes\n",
    "_Ravi Dayabhai_\n",
    "\n",
    "These are assorted \"think aloud\" notes I've taken while reviewing (and in some cases, learning anew!) some probability and statistics concepts in Spring/Summer 2021. The general structure (and content) follows MIT's OCW 18.05[1], but there are deviations based on my interests and the \"holes\" in my understanding that I wish to patch.\n",
    "\n",
    "[1]: https://ocw.mit.edu/courses/mathematics/18-05-introduction-to-probability-and-statistics-spring-2014/readings/"
   ]
  },
  {
   "cell_type": "code",
   "execution_count": 1,
   "id": "06e651d3",
   "metadata": {},
   "outputs": [],
   "source": [
    "%load_ext autoreload\n",
    "%autoreload 2\n",
    "%config InlineBackend.figure_format = 'retina'"
   ]
  },
  {
   "cell_type": "code",
   "execution_count": 2,
   "id": "5e45872a",
   "metadata": {},
   "outputs": [],
   "source": [
    "import numpy as np\n",
    "import pandas as pd\n",
    "from scipy.stats import geom, norm\n",
    "from scipy.special import comb\n",
    "\n",
    "import matplotlib.pyplot as plt\n",
    "from matplotlib import ticker"
   ]
  },
  {
   "cell_type": "markdown",
   "id": "331e5c93",
   "metadata": {},
   "source": [
    "## Counting\n",
    "\n",
    "Assume the traditional \"Birthday problem\" set up. Calculate the probability that some trio in a group of $n$ people have the same birthday."
   ]
  },
  {
   "cell_type": "code",
   "execution_count": 3,
   "id": "ec3eb10b",
   "metadata": {},
   "outputs": [],
   "source": [
    "# Define simulation\n",
    "def birthday_triplet_sim(n: int, trials: int) -> float:\n",
    "    trial_ct = 0\n",
    "    success_ct = 0\n",
    "    for _ in range(trials):\n",
    "        trial_ct += 1\n",
    "        group = np.random.randint(1, 365 + 1, n)\n",
    "        (unique, counts) = np.unique(group, return_counts=True)\n",
    "        if any(filter(lambda x: x >= 3, counts)):\n",
    "            success_ct += 1\n",
    "    return success_ct / trial_ct"
   ]
  },
  {
   "cell_type": "markdown",
   "id": "a54b6e6a",
   "metadata": {},
   "source": [
    "What is minimum $n$ such that the probability of this event is at least $\\frac{1}{2}$?"
   ]
  },
  {
   "cell_type": "code",
   "execution_count": 4,
   "id": "76750457",
   "metadata": {},
   "outputs": [
    {
     "name": "stdout",
     "output_type": "stream",
     "text": [
      "Average probability, 10 experiments: 0.49845000000000006\n",
      "Average probability, 10 experiments: 0.5084299999999999\n"
     ]
    }
   ],
   "source": [
    "# Run 10k trials\n",
    "trials = 10_000\n",
    "experiments = 10\n",
    "ns = [87, 88]\n",
    "\n",
    "for n in ns:\n",
    "    experiment_results = [birthday_triplet_sim(n, trials) for _ in range(experiments)]\n",
    "    print(f\"Average probability, {experiments} experiments: {np.mean(experiment_results)}\")"
   ]
  },
  {
   "cell_type": "markdown",
   "id": "31c3ed9f",
   "metadata": {},
   "source": [
    "## Distributions"
   ]
  },
  {
   "cell_type": "markdown",
   "id": "22d253de",
   "metadata": {},
   "source": [
    "### Geometric\n",
    "\n",
    "Suppose that the inhabitants of an island plan their families by having babies until the first girl is born. Assume the probability of having a girl with each pregnancy is 0.5 independent of other pregnancies, that all babies survive and there are no multiple births. What is the probability that a family has $k$ boys?"
   ]
  },
  {
   "cell_type": "code",
   "execution_count": 5,
   "id": "823c0b89",
   "metadata": {},
   "outputs": [
    {
     "name": "stdout",
     "output_type": "stream",
     "text": [
      "The probability of having 0 boys: 0.50000\n",
      "The probability of having 1 boys: 0.25000\n",
      "The probability of having 2 boys: 0.12500\n",
      "The probability of having 3 boys: 0.06250\n",
      "The probability of having 4 boys: 0.03125\n",
      "The probability of having 5 boys: 0.01562\n",
      "The probability of having 6 boys: 0.00781\n",
      "The probability of having 7 boys: 0.00391\n",
      "The probability of having 8 boys: 0.00195\n",
      "The probability of having 9 boys: 0.00098\n",
      "The probability of having 10 boys: 0.00049\n",
      "The probability of having 11 boys: 0.00024\n",
      "The probability of having 12 boys: 0.00012\n",
      "The probability of having 13 boys: 0.00006\n",
      "The probability of having 14 boys: 0.00003\n",
      "The probability of having 15 boys: 0.00002\n",
      "The probability of having 16 boys: 0.00001\n",
      "The probability of having 17 boys: 0.00000\n",
      "The probability of having 18 boys: 0.00000\n",
      "The probability of having 19 boys: 0.00000\n",
      "The probability of having 20 boys: 0.00000\n"
     ]
    }
   ],
   "source": [
    "# Geometric PDF (up to a point)\n",
    "p = 0.5\n",
    "loc = -1\n",
    "for k in range(20 + 1):\n",
    "    print(f\"The probability of having {k} boys:\", f\"{geom.pmf(k, p, loc):.5f}\")"
   ]
  },
  {
   "cell_type": "markdown",
   "id": "b382f5a2",
   "metadata": {},
   "source": [
    "What about the ratio of boys to girls on the island?"
   ]
  },
  {
   "cell_type": "code",
   "execution_count": 6,
   "id": "ca1c571c",
   "metadata": {},
   "outputs": [
    {
     "data": {
      "text/plain": [
       "1.0"
      ]
     },
     "execution_count": 6,
     "metadata": {},
     "output_type": "execute_result"
    }
   ],
   "source": [
    "# Expectation of Geometric distribution\n",
    "geom.mean(p, loc)"
   ]
  },
  {
   "cell_type": "markdown",
   "id": "2a2f9907",
   "metadata": {},
   "source": [
    "### Runs"
   ]
  },
  {
   "cell_type": "markdown",
   "id": "8a6f78ad",
   "metadata": {},
   "source": [
    "A run is a sequence of all $1$s or $0$s. For this problem, consider sequence of 50 Bernoulli random variables where $p = 0.5$."
   ]
  },
  {
   "cell_type": "code",
   "execution_count": 7,
   "id": "df9a486d",
   "metadata": {},
   "outputs": [],
   "source": [
    "def longest_runs_sim(n: int = 50) -> int:\n",
    "    # Random sequence where each n_i is element of {0, 1}\n",
    "    seq = np.random.randint(0, 1+1, n)\n",
    "    longest_runs = {1: None, 0: None}\n",
    "    for i, outcome in enumerate([~seq, seq]):\n",
    "        runs = \\\n",
    "            np.diff( # Diff of indices counts runs\n",
    "                np.where( \n",
    "                    np.concatenate( # Checks if next value is different; if yes, then 1\n",
    "                        # Note: Concatenation deals with edge cases\n",
    "                        ([outcome[0]], outcome[:-1] != outcome[1:], [True])\n",
    "                    )\n",
    "                )[0] # Returns indices for whenever value switches\n",
    "            )[::2] # Only return the diffs for the 1s\n",
    "        longest_runs[i] = runs.max()\n",
    "    # Longest runs (0s or 1s) and sequence\n",
    "    return max(longest_runs.values()), seq"
   ]
  },
  {
   "cell_type": "markdown",
   "id": "19740a11",
   "metadata": {},
   "source": [
    "What's the average length of a \"longest run\"?"
   ]
  },
  {
   "cell_type": "code",
   "execution_count": 8,
   "id": "8c3f5c07",
   "metadata": {},
   "outputs": [
    {
     "data": {
      "text/plain": [
       "5.5429"
      ]
     },
     "execution_count": 8,
     "metadata": {},
     "output_type": "execute_result"
    }
   ],
   "source": [
    "# Calculate average longest run\n",
    "trials = 10_000\n",
    "results = []\n",
    "for _ in range(trials):\n",
    "    results.append(longest_runs_sim(50)[0])\n",
    "\n",
    "# Longest runs average\n",
    "sum(results) / len(results)"
   ]
  },
  {
   "cell_type": "markdown",
   "id": "25ac0af5",
   "metadata": {},
   "source": [
    "If $Y$ the the length of the \"longest run\" in a series of $n=50$ fair coin flips, what is $P(Y \\geq 8)$?"
   ]
  },
  {
   "cell_type": "code",
   "execution_count": 9,
   "id": "1369abcf",
   "metadata": {},
   "outputs": [
    {
     "data": {
      "text/plain": [
       "0.1324"
      ]
     },
     "execution_count": 9,
     "metadata": {},
     "output_type": "execute_result"
    }
   ],
   "source": [
    "event_ct = 0\n",
    "for _ in range(trials):\n",
    "    if longest_runs_sim(50)[0] >= 8:\n",
    "        event_ct += 1\n",
    "\n",
    "# Estimate probability of a longest run in 50 flips >= 8\n",
    "event_ct / trials"
   ]
  },
  {
   "cell_type": "markdown",
   "id": "228032a8",
   "metadata": {},
   "source": [
    "## Continuous Distributions"
   ]
  },
  {
   "cell_type": "markdown",
   "id": "f9902ef4",
   "metadata": {},
   "source": [
    "### Standard Normal\n",
    "\n",
    "Below, we practice computing probabilities using SciPy's standard normal class."
   ]
  },
  {
   "cell_type": "code",
   "execution_count": 10,
   "id": "79a86f14",
   "metadata": {},
   "outputs": [
    {
     "name": "stdout",
     "output_type": "stream",
     "text": [
      "P(Z < 1.5) = 0.933\n",
      "P(-1 < Z < 1) = 0.683\n"
     ]
    }
   ],
   "source": [
    "z_1 = 1.5\n",
    "z_2 = -1\n",
    "z_3 = 1\n",
    "\n",
    "print(f\"P(Z < {z_1}) = {round(norm.cdf(z_1), 3)}\")\n",
    "print(f\"P({z_2} < Z < {z_3}) = {round(norm.cdf(z_3) - norm.cdf(z_2), 3)}\")"
   ]
  },
  {
   "cell_type": "markdown",
   "id": "b0ce6bb9",
   "metadata": {},
   "source": [
    "The length of human gestation is well-approximated by a normal distribution with mean μ = 280 days and standard deviation σ = 8.5 days. Graph the PDF and CDF a random variable distributed according to this distribution."
   ]
  },
  {
   "cell_type": "code",
   "execution_count": 11,
   "id": "7c54f4ed",
   "metadata": {},
   "outputs": [
    {
     "data": {
      "image/png": "[encoded data removed]",
      "text/plain": [
       "<Figure size 432x288 with 1 Axes>"
      ]
     },
     "metadata": {
      "image/png": {
       "height": 248,
       "width": 378
      },
      "needs_background": "light"
     },
     "output_type": "display_data"
    }
   ],
   "source": [
    "mu = 280\n",
    "sigma = 8.5\n",
    "\n",
    "z = np.linspace(norm.ppf(0.01), norm.ppf(.99), 100)\n",
    "x = sigma * z + mu\n",
    "plt.plot(x, norm.pdf(x, loc=mu, scale=sigma), lw=5, alpha=0.6, label='norm pdf')\n",
    "plt.show()"
   ]
  },
  {
   "cell_type": "markdown",
   "id": "0817938a",
   "metadata": {},
   "source": [
    "The probability of giving birth μ-7 days or earlier assuming the above distribution is calculated as $P(X < \\mu - 7)$."
   ]
  },
  {
   "cell_type": "code",
   "execution_count": 12,
   "id": "134ce483",
   "metadata": {},
   "outputs": [
    {
     "data": {
      "text/plain": [
       "0.2051034993461297"
      ]
     },
     "execution_count": 12,
     "metadata": {},
     "output_type": "execute_result"
    }
   ],
   "source": [
    "norm.cdf(mu-7, loc=mu, scale=sigma)"
   ]
  },
  {
   "cell_type": "markdown",
   "id": "b4503539",
   "metadata": {},
   "source": [
    "## Expectation & Variance (Univariate)"
   ]
  },
  {
   "cell_type": "markdown",
   "id": "3793c318",
   "metadata": {},
   "source": [
    "Suppose you are playing a game where you roll two dice. The payoff function can be described as:\n",
    "\n",
    "$$\n",
    "Y_{i, j} = ij - 10\n",
    "$$\n",
    "\n",
    "1. What's the expected payoff for this game? \n",
    "2. Is this a better game to play versus a game where you win \\\\$500 on rolling a 7 (this game sums the dice values) and lose \\\\$100 otherwise?"
   ]
  },
  {
   "cell_type": "code",
   "execution_count": 13,
   "id": "d487354e",
   "metadata": {},
   "outputs": [
    {
     "data": {
      "text/plain": [
       "2.25"
      ]
     },
     "execution_count": 13,
     "metadata": {},
     "output_type": "execute_result"
    }
   ],
   "source": [
    "# Create two dice arrays\n",
    "dice_1 = np.arange(1, 6+1)\n",
    "dice_2 = dice_1.copy()\n",
    "\n",
    "# Construct sample space, probability space, and outcomes\n",
    "sample_space = np.array([np.tile(dice_1, len(dice_2)), \n",
    "                     np.repeat(dice_2, len(dice_1))])\n",
    "rv_value = np.prod(sample_space, axis=0, keepdims=True) - 10\n",
    "prob_distribution = np.full_like(rv_value, 1/sample_space.shape[1], dtype='float')\n",
    "\n",
    "# Expected value of playing this dice game\n",
    "expected_value = rv_value.dot(prob_distribution.transpose()).item(0)\n",
    "expected_value"
   ]
  },
  {
   "cell_type": "markdown",
   "id": "48119a49",
   "metadata": {},
   "source": [
    "This is a better game than the alternative because the alternative's expected value is 0!"
   ]
  },
  {
   "cell_type": "markdown",
   "id": "f52b26e1",
   "metadata": {},
   "source": [
    "## Central Limit Theorem (CLT)\n",
    "\n",
    "The centrality (🙃) of this theorem to statistics cannot be overstated. The CLT is useful for several reasons:\n",
    "\n",
    "1. **Approximation**: The CLT allows us to approximate a sum or average of _any_ well-behaved (finite mean and variance) i.i.d random variables by a normal random variable. This is extremely useful because it is usually easy to do computations with the normal distribution.\n",
    "2. **Inference**: This is what underprins frequentist null hypothesis testing."
   ]
  },
  {
   "cell_type": "markdown",
   "id": "18400f4f",
   "metadata": {},
   "source": [
    "### Binomial $\\rightarrow$ Normal\n",
    "\n",
    "Let's explore how, in the limiting case under special conditions, the Binomial approximates the Normal. The best conditions for this approximation are when $n$ is large and $p \\approx 0.5$ (so that the Binomial random variable being approximated is somewhat symmetric).\n",
    "\n",
    "#### Claim\n",
    "\n",
    "Because $Y \\sim \\text{Bin}(n, p)$ can be expressed as $\\sum_{i=1}^{n} X_{i}$ for $X_{i} \\stackrel{\\text{i.i.d.}}{\\sim} \\text{Bern}(p)$), we can use the Central Limit Theorem (CLT) provided that $n$ is sufficiently large. Specifically, the CLT tells us:\n",
    "\n",
    "$$\n",
    "\\begin{align}\n",
    "Z  &= \\frac{Y - \\mu_{Y}}{\\sigma_{Y}} \\stackrel{d}{\\rightarrow} \\mathcal{N}(0,1)\\\\\n",
    "Z  &= \\frac{Y - np}{\\sqrt{npq}}\\\\\n",
    "\\end{align}\n",
    "$$\n",
    "\n",
    "To adjust for discrete vs. continuous contexts, we can use a _continuity correction_ when approximating $P(Y=k)$:\n",
    "\n",
    "$$\n",
    "P(Y = k) = P\\left(k - \\frac{1}{2} < Y < k + \\frac{1}{2}\\right)\n",
    "$$\n",
    "\n",
    "#### Justification\n",
    "\n",
    "Notice that getting from the above to a more familiar incarnation of the CLT for a Bernoulli random variable $X$ is just a matter of transforming $Y$; said another way, $\\frac{Y}{n} = \\bar{X_{n}}$ is a sampled mean and we know that the sampling distribution of the sample mean is Normal.\n",
    "\n",
    "$$\n",
    "\\begin{align}\n",
    "\\frac{Y}{n} = \\bar{X_{n}} \\implies Z &= \\frac{\\frac{Y}{n} - \\mu_{\\bar{X_{n}}}}{\\sigma_{\\bar{X_{n}}}} \\stackrel{d}{\\rightarrow} \\mathcal{N}(0,1)\\\\\n",
    "Z  &= \\sqrt{n}\\frac{\\bar{X_{n}} - p}{\\sqrt{pq}} = \\sqrt{n}\\frac{\\hat{p_{n}} - p}{\\sqrt{pq}}\\\\\n",
    "\\end{align}\n",
    "$$\n",
    "\n",
    "So, to get from the bottom relationship to the top we can simply multiply the numerator and denominator on the right-hand side by $n$!"
   ]
  },
  {
   "cell_type": "markdown",
   "id": "e068ca07",
   "metadata": {},
   "source": [
    "### Poisson → Normal\n",
    "\n",
    "Similarly, we can leverage what we know about the sum of independent Poissons to arrive at a similar conclusion about the average of many i.i.d Poissons!\n",
    "\n",
    "#### Claim & Justification\n",
    "\n",
    "Let $Y \\sim \\text{Pois}(n)$. We know that the sum of independent Poissons is Poisson (e.g., counting green cars ($\\lambda_{1}$) and blue cars ($\\lambda_{2}$) is the same thing as counting blue or green cars over the same period ($\\lambda = \\lambda_{1} + \\lambda_{2}$)). Therefore, we can let $Y = \\sum_{i=1}^{n} X_{i}$, where $X \\sim \\text{Pois}(1)$. Immediately, by the CLT and that the Poisson has special property that its mean and variance are the same: \n",
    "\n",
    "$$\n",
    "Y \\sim \\mathcal{N}(n, n)\n",
    "$$"
   ]
  },
  {
   "cell_type": "markdown",
   "id": "cb7b2991",
   "metadata": {},
   "source": [
    "## Hypothesis Testing"
   ]
  },
  {
   "cell_type": "markdown",
   "id": "4c938a13",
   "metadata": {},
   "source": [
    "### $p$-values $\\dot\\sim \\text{Unif}(0, 1)$\n",
    "\n",
    "**Upshot**: When samples come from the same distribution, the $p$-values are distributed normally.\n",
    "\n",
    "This might seem surprising, but it reminds us of the \"Universality of the Uniform\".[1] [2] Basically, the survival function $G(x) = 1-F(x)$ for $X \\sim \\mathcal{N}(\\mu, \\sigma^{2})$ is the function of $x$ that returns a the $p$-value. (Here, $X$ is the sample statistic, itself a random variable which is distributed normally by the CLT.)\n",
    "\n",
    "But we know from the \"Universality of the Uniform\" that when we plug $X$ into its CDF, we get a standard normal. This is easily proven below:\n",
    "\n",
    "_Proof_: Universality of the Uniform\n",
    "\n",
    "Let $X$ have CDF $F$. Find the CDF of $Y = F(X)$. Since $Y$ takes on values in $(0,1)$, for $y \\in (0,1)$,\n",
    "\n",
    "$$\n",
    "\\begin{align}\n",
    "P(Y \\leq y) &= P(F(X) \\leq y) = P(F^{-1}(F(X)) \\leq F^{-1}(y)) = P(X \\leq F^{-1}(y))\\\\\n",
    "&= F(F^{-1}(y)) = y.\n",
    "\\end{align}\n",
    "$$\n",
    "\n",
    "Thus, $Y \\sim \\text{Unif}(0,1)$.\n",
    "\n",
    "By symmetry (because $X$ is normally distributed), we can use substitute $F$ with $G$, so $Y$ is a random value of $p$-values, and we see that $Y$ is distributed standard uniform.\n",
    "\n",
    "We can also simulate this fact, which I do below:\n",
    "\n",
    "\n",
    "[1]: https://en.wikipedia.org/wiki/Probability_integral_transform\n",
    "[2]: https://www.youtube.com/watch?v=TzKANDzAXnQ"
   ]
  },
  {
   "cell_type": "code",
   "execution_count": 14,
   "id": "433ccbc0",
   "metadata": {},
   "outputs": [
    {
     "data": {
      "image/png": "[encoded data removed]",
      "text/plain": [
       "<Figure size 864x576 with 1 Axes>"
      ]
     },
     "metadata": {
      "image/png": {
       "height": 499,
       "width": 731
      },
      "needs_background": "light"
     },
     "output_type": "display_data"
    }
   ],
   "source": [
    "# Draw N times from normal distribution; each draw is a realized sample statistic\n",
    "# Note: Assuming standard normal for convenience\n",
    "N = 10_000\n",
    "samples = np.random.normal(0, 1, N)\n",
    "p_values = norm.sf(samples)\n",
    "\n",
    "# Plot distribution of p-values\n",
    "plt.figure(figsize=(12,8))\n",
    "bins = np.linspace(0, 1, 20, endpoint=True)\n",
    "plt.hist(p_values, bins=bins)\n",
    "\n",
    "# Cosmetic\n",
    "ax = plt.gca()\n",
    "ax.spines['right'].set_visible(False)\n",
    "ax.spines['top'].set_visible(False)\n",
    "ax.xaxis.set_minor_locator(ticker.AutoMinorLocator())\n",
    "plt.xlim(left=0, right=1)\n",
    "plt.xlabel('$p$-value')\n",
    "plt.ylabel('Frequency')\n",
    "plt.title('Distribution of $p$-values', fontsize=14, fontweight='bold')\n",
    "\n",
    "# Show plote\n",
    "plt.show()"
   ]
  },
  {
   "cell_type": "markdown",
   "id": "ff7c7768",
   "metadata": {},
   "source": [
    "Thinking about hypothesis testing, fundamentally, we are interested in whether a Treatment effect exists. Said another way, are Treated samples coming from a different sampling distribution?\n",
    "\n",
    "When the distributions are different, we expect skew in the distribution of $p$-values. StatQuest has [a fantastic video](https://www.youtube.com/watch?v=K8LQSvtjcEo) recapping these ideas in relation to controlling the false discovery rate (in the context of multiple hypothesis testing; see explanation below)."
   ]
  },
  {
   "cell_type": "markdown",
   "id": "64d79e1b",
   "metadata": {},
   "source": [
    "### Multiple Comparisons/Tests Problem\n",
    "\n",
    "Multiple comparisons arise when a statistical analysis involves multiple simultaneous statistical tests, each of which has a potential to produce a \"discovery\", of the same dataset or dependent datasets. A stated confidence level generally applies only to each test considered individually, but often it is desirable to have a confidence level for the whole family of simultaneous tests.[1]\n",
    "\n",
    "Consider the example of an A/A test (so there is no real Treatment effect) where there are 100 independent metrics being tested. Then the probability of a spurious false positive or \"discovery\" when there is truly not one to be had is deduced as:\n",
    "\n",
    "$$\n",
    "\\begin{align}\n",
    "P(\\text{at least one significant result}) &= 1 - P(\\text{no significant results})\\\\\n",
    "&= 1 - (1 - \\alpha_{\\text{per comparison}})^{100}\n",
    "\\end{align}\n",
    "$$\n",
    "\n",
    "Assuming $\\alpha_{\\text{per comparison}} = 0.05$, this yields a startling conclusion:\n",
    "\n",
    "$$\n",
    "\\begin{align}\n",
    "P(\\text{at least one significant result}) &= 1 - (0.95)^{100}\\\\\n",
    "&\\approx 0.994\n",
    "\\end{align}\n",
    "$$\n",
    "\n",
    "With $99.4\\%$ probability there will be at least one test that will falsely reject the null hypothesis (due to random [sampling error](https://en.wikipedia.org/wiki/Sampling_error))! This is called the _family-wise error rate_, $\\alpha$ for $m$ independent comparisons.\n",
    "\n",
    "The next few sections will demonstrate a few approaches to correcting for this problem.\n",
    "\n",
    "[1]: https://en.wikipedia.org/wiki/Multiple_comparisons_problem"
   ]
  },
  {
   "cell_type": "markdown",
   "id": "c8b615e2",
   "metadata": {},
   "source": [
    "#### Correcting Multiple Comparisons\n",
    "\n",
    "To illustrate each of the following techniques, let's set up some dummy data to see the effect of each correction. (_Credit_: Megan Goldman's [notes](https://www.stat.berkeley.edu/~mgoldman/Section0402.pdf) served as the motivation for this; the examples herein are the same as hers, save for being ported to Python.)"
   ]
  },
  {
   "cell_type": "code",
   "execution_count": 15,
   "id": "afa5eda3",
   "metadata": {},
   "outputs": [],
   "source": [
    "# Let's simulate 900 draws from a standard normal \n",
    "mu_0, sigma_0 = 0, 1\n",
    "n_0 = 900\n",
    "null_true_outcomes = np.random.normal(mu_0, sigma_0, n_0)\n",
    "\n",
    "# ...and 100 draws from a normal with mean = 3 and variance = 1\n",
    "mu_1, sigma_1 = 3, 1\n",
    "n_1 = 100\n",
    "null_false_outcomes = np.random.normal(mu_1, sigma_1, n_1)\n",
    "\n",
    "# To align my notation with that of the Wikipedia article\n",
    "m = (n_0 + n_1)"
   ]
  },
  {
   "cell_type": "code",
   "execution_count": 16,
   "id": "c1dc687b",
   "metadata": {},
   "outputs": [
    {
     "data": {
      "text/plain": [
       "0.04888888888888889"
      ]
     },
     "execution_count": 16,
     "metadata": {},
     "output_type": "execute_result"
    }
   ],
   "source": [
    "# P(Type I Error) when null hypothesis (e.g., 0 difference in means) is TRUE\n",
    "alpha = 0.05\n",
    "(norm.sf(null_true_outcomes, loc=mu_0, scale=sigma_0) < alpha).mean()"
   ]
  },
  {
   "cell_type": "code",
   "execution_count": 17,
   "id": "32077bc6",
   "metadata": {},
   "outputs": [
    {
     "data": {
      "text/plain": [
       "0.95"
      ]
     },
     "execution_count": 17,
     "metadata": {},
     "output_type": "execute_result"
    }
   ],
   "source": [
    "# 1 - P(Type II Error) when null hypothesis (e.g., 0 difference in means) is FALSE\n",
    "alpha = 0.05\n",
    "(norm.sf(null_false_outcomes, loc=mu_0, scale=sigma_0) < alpha).mean()"
   ]
  },
  {
   "cell_type": "markdown",
   "id": "d2f78de4",
   "metadata": {},
   "source": [
    "Okay, so we see that $\\alpha$ makes sense ($\\approx 5\\%$) and that we have good power ($\\approx 90\\%$) when the $H_{0}$ is indeed false."
   ]
  },
  {
   "cell_type": "markdown",
   "id": "d20c4cfb",
   "metadata": {},
   "source": [
    "##### Bonferroni Correction\n",
    "\n",
    "This makes the significance level more stringent for each test:\n",
    "\n",
    "$$\n",
    "\\alpha_{\\text{per comparison}} = \\frac{\\alpha}{n}\n",
    "$$\n",
    "\n",
    "The nice thing about this simple heuristic is that it is free from distributional or independence assumptions.\n",
    "\n",
    "Remember, though, there is no such thing as a free lunch! **Because we've reduced the $P(\\text{Type I error})$, the Faustian bargain is borne out by reduced power** (i.e., $\\uparrow \\beta$, or a higher false negative rate)!\n",
    "\n",
    "Let's see how this fares when applied to our cooked up data."
   ]
  },
  {
   "cell_type": "code",
   "execution_count": 18,
   "id": "3393d9fd",
   "metadata": {},
   "outputs": [
    {
     "data": {
      "text/plain": [
       "0.0"
      ]
     },
     "execution_count": 18,
     "metadata": {},
     "output_type": "execute_result"
    }
   ],
   "source": [
    "# Apply the Bonferroni correction on our data\n",
    "alpha_per_comparison = 0.05 / m\n",
    "(norm.sf(null_true_outcomes, loc=mu_0, scale=sigma_0) < alpha_per_comparison).mean()"
   ]
  },
  {
   "cell_type": "markdown",
   "id": "016a387c",
   "metadata": {},
   "source": [
    "We've really squeezed out a ton of Type I error by applying this correction, but the other shoe is about to drop:"
   ]
  },
  {
   "cell_type": "code",
   "execution_count": 19,
   "id": "761f8d19",
   "metadata": {},
   "outputs": [
    {
     "data": {
      "text/plain": [
       "0.22"
      ]
     },
     "execution_count": 19,
     "metadata": {},
     "output_type": "execute_result"
    }
   ],
   "source": [
    "# Apply the Bonferroni correction on our data\n",
    "alpha_per_comparison = 0.05 / m\n",
    "(norm.sf(null_false_outcomes, loc=mu_0, scale=sigma_0) < alpha_per_comparison).mean()"
   ]
  },
  {
   "cell_type": "markdown",
   "id": "0cf778e0",
   "metadata": {},
   "source": [
    "We've eviscerated our power!"
   ]
  },
  {
   "cell_type": "markdown",
   "id": "0df5bd9e",
   "metadata": {},
   "source": [
    "_Note_: The **Šidák correction** is a variation on this theme. It uses a marginally less conservative method of controlling the _family-wise error rate_ (i.e., probability of at least 1 false positive, $\\alpha$). This correction assumes the tests are independent because this procedure simply solves for $\\alpha_{\\text{per comparison}}$ using the equation we used to demonstrate the multiple comparisons problem in the first place.\n",
    "\n",
    "Connecting those dots more explicitly, this:\n",
    "\n",
    "$$\n",
    "\\alpha_{\\text{per comparison}} = 1 - (1 - \\alpha)^{\\frac{1}{m}}\n",
    "$$\n",
    "\n",
    "...is simply the below, algebraically rearranged: \n",
    "\n",
    "$$\n",
    "\\begin{align}\n",
    "P(\\text{at least one significant result}) &= 1 - P(\\text{no significant results})\\\\\n",
    "\\alpha &= 1 - (1 - \\alpha_{\\text{per comparison}})^{m}\n",
    "\\end{align}\n",
    "$$\n",
    "\n",
    "Notice the \"reduced\" discount to $\\alpha$ is related to the inequality of arithmetic and geometric means[1].\n",
    "\n",
    "[1]: https://en.wikipedia.org/wiki/Inequality_of_arithmetic_and_geometric_means"
   ]
  },
  {
   "cell_type": "code",
   "execution_count": 20,
   "id": "19157b33",
   "metadata": {},
   "outputs": [
    {
     "data": {
      "text/plain": [
       "0.0"
      ]
     },
     "execution_count": 20,
     "metadata": {},
     "output_type": "execute_result"
    }
   ],
   "source": [
    "# Apply the Šidák correction on our data\n",
    "alpha_per_comparison = 1 - (1 - 0.05) ** (1/m)\n",
    "(norm.sf(null_true_outcomes, loc=mu_0, scale=sigma_0) < alpha_per_comparison).mean()"
   ]
  },
  {
   "cell_type": "code",
   "execution_count": 21,
   "id": "a03d4662",
   "metadata": {},
   "outputs": [
    {
     "data": {
      "text/plain": [
       "0.23"
      ]
     },
     "execution_count": 21,
     "metadata": {},
     "output_type": "execute_result"
    }
   ],
   "source": [
    "# Apply the Šidák correction on our data\n",
    "alpha_per_comparison = 1 - (1 - 0.05) ** (1/m)\n",
    "(norm.sf(null_false_outcomes, loc=mu_0, scale=sigma_0) < alpha_per_comparison).mean()"
   ]
  },
  {
   "cell_type": "markdown",
   "id": "1df7cb93",
   "metadata": {},
   "source": [
    "##### Controlling False Discovery Rate (FDR)"
   ]
  },
  {
   "cell_type": "markdown",
   "id": "2da64067",
   "metadata": {},
   "source": [
    "FDR-controlling procedures provide less stringent control of Type I errors compared to family-wise error rate controlling procedures (e.g., Bonferroni correction), which control the probability of _at least one_ Type I error. Thus, **FDR-controlling procedures have greater power, at the cost of increased numbers of Type I errors.**[1]\n",
    "\n",
    "[1]: https://en.wikipedia.org/wiki/False_discovery_rate"
   ]
  },
  {
   "cell_type": "markdown",
   "id": "7e587eb2",
   "metadata": {},
   "source": [
    "The **Benjamini–Hochberg procedure** implements this idea. This is valid when the $m$ tests are independent, and also in various scenarios of dependence, but is _not_ universally valid.[1]\n",
    "\n",
    "For the FDR, we want to consider the ordered $p$-values. We will find the largest $k$th ordered $p$-value\n",
    "that is less than or equal to $\\frac{k\\times\\alpha}{m}$ and use this \"boundary\" $p$-value as our $\\alpha_{\\text{per comparison}}$.\n",
    "\n",
    "Importantly, let's clarify the terminology which can get quite confusing in what might already appear to be a confusing undertaking.\n",
    "\n",
    "- The False Discovery Rate (FDR) is the proportion of false positives among _all statistically significant tests_.\n",
    "- $1 - \\text{FDR}$ here is akin to a \"precision\" metric: \"Of the tests we deem statistically significant, how many actually are?\"\n",
    "- $\\alpha$ in this context is redefined to be the upper bound, in expectation, for the FDR we desire.\n",
    "- Importantly, $\\alpha \\neq \\alpha_{\\text{per comparison}}$!\n",
    "\n",
    "If the explanation below, doesn't suffice, this deck[2] from the Department of Statistics and Applied Probability does a superb job of explaining the what and why of this method.\n",
    "\n",
    "[1]: http://www.math.tau.ac.il/~ybenja/MyPapers/benjamini_yekutieli_ANNSTAT2001.pdf\n",
    "[2]: https://cpb-us-w2.wpmucdn.com/blog.nus.edu.sg/dist/0/3425/files/2018/10/Understanding-Benjamini-Hochberg-method-2ijolq0.pdf"
   ]
  },
  {
   "cell_type": "code",
   "execution_count": 22,
   "id": "0150c2c5",
   "metadata": {},
   "outputs": [],
   "source": [
    "# Concatenate original outcome arrays and convert to p-values\n",
    "all_outcomes = np.concatenate((norm.sf(null_true_outcomes, loc=mu_0, scale=sigma_0), \n",
    "                               norm.sf(null_false_outcomes, loc=mu_0, scale=sigma_0)))\n",
    "all_outcomes_argsorted = np.argsort(all_outcomes)\n",
    "\n",
    "# Get the largest kth ordered p-value less than BH condition (\"boundary\" p-value)\n",
    "all_outcomes_sorted = np.sort(all_outcomes)\n",
    "\n",
    "# k is 1-indexed\n",
    "k = np.argsort(all_outcomes_sorted) + 1\n",
    "bh_condition = all_outcomes_sorted <= (k * 0.05 / m)\n",
    "largest_k = bh_condition.sum()"
   ]
  },
  {
   "cell_type": "markdown",
   "id": "222ecdd5",
   "metadata": {},
   "source": [
    "Notice that this method produces a much less conservative $\\alpha_{\\text{per comparison}}$ than the Bonferroni correction!"
   ]
  },
  {
   "cell_type": "code",
   "execution_count": 23,
   "id": "1904f08e",
   "metadata": {},
   "outputs": [
    {
     "data": {
      "text/plain": [
       "0.0032162915528709795"
      ]
     },
     "execution_count": 23,
     "metadata": {},
     "output_type": "execute_result"
    }
   ],
   "source": [
    "# Index into the \"boundary\" p-value = alpha_per_comparison\n",
    "alpha_per_comparison = all_outcomes_sorted[largest_k-1]\n",
    "alpha_per_comparison"
   ]
  },
  {
   "cell_type": "markdown",
   "id": "7d061132",
   "metadata": {},
   "source": [
    "**Note**: Some sources might, rather than adjust the significance level _per comparison_ to the computed figure above, adjust the $p$-values (called $q$-values in the literature) while keeping $\\alpha$ intact. Mathemetically, these are equivalent procedures:\n",
    "\n",
    "- Method 1: Adjust the significance level _per comparison_\n",
    "\n",
    "1. First determine the \"boundary\" $p$-value, i.e., the largest $P_{(k)}$ where $P_{(k)} \\leq \\frac{k \\alpha}{m}$.\n",
    "2. Deem statistical significance if a given test has a $p$-value $< P_{(k)}$.\n",
    "\n",
    "\n",
    "- Method 2: Adjust the $p$-values (called $q$-values)\n",
    "\n",
    "1. Scale $p$-values into $q$-values, i.e., $Q_{(k)} = \\frac{mP_{(k)}}{k}$\n",
    "2. Deem statistical significance if a given test has a $q$-value $< \\alpha$, i.e., $Q_{(k)} < \\alpha$.\n",
    "\n",
    "**Moral**: Some people use $Q$ while others use $\\alpha$ when referring to the desired ceiling (in expectation) for the false discovery rate.\n"
   ]
  },
  {
   "cell_type": "markdown",
   "id": "e0933e84",
   "metadata": {},
   "source": [
    "\"Much less conservative\" simply means that the $\\alpha_{\\text{per comparison}}$ (above) is greater than the case where we applied Bonferroni procedure:"
   ]
  },
  {
   "cell_type": "code",
   "execution_count": 24,
   "id": "ab3b7b07",
   "metadata": {},
   "outputs": [
    {
     "data": {
      "text/plain": [
       "5e-05"
      ]
     },
     "execution_count": 24,
     "metadata": {},
     "output_type": "execute_result"
    }
   ],
   "source": [
    "# Bonferroni-corrected alpha\n",
    "alpha / m"
   ]
  },
  {
   "cell_type": "markdown",
   "id": "81e5d814",
   "metadata": {},
   "source": [
    "We're not making a statement about the probability of having _at least_ one false positive (i.e., family-wise error rate) _among all tests_. Instead we're accepting that there will be false positives; our intention is to try to curtail the frequency with which they appear _among the tests we deem statistically significant_!\n",
    "\n",
    "To show that we haven't really moved the needle in terms of FWER-$\\alpha$:"
   ]
  },
  {
   "cell_type": "code",
   "execution_count": 25,
   "id": "26852540",
   "metadata": {},
   "outputs": [
    {
     "data": {
      "text/plain": [
       "0.9601038294431766"
      ]
     },
     "execution_count": 25,
     "metadata": {},
     "output_type": "execute_result"
    }
   ],
   "source": [
    "# Calculate FWER\n",
    "fwer_alpha = 1 - (1 - alpha_per_comparison) ** m\n",
    "fwer_alpha"
   ]
  },
  {
   "cell_type": "markdown",
   "id": "aebc2a7f",
   "metadata": {},
   "source": [
    "The big idea is that we want our false discovery rate to be bounded, on average, by the stated $\\alpha$: i.e., on average, FDR $\\leq \\alpha$ (even if this particular instance might not strictly adhere to this inequality)."
   ]
  },
  {
   "cell_type": "code",
   "execution_count": 26,
   "id": "4a46dc7e",
   "metadata": {},
   "outputs": [
    {
     "data": {
      "text/plain": [
       "0.06060606060606061"
      ]
     },
     "execution_count": 26,
     "metadata": {},
     "output_type": "execute_result"
    }
   ],
   "source": [
    "# Get the tests that we declare significant based on \"boundary\" p-value = alpha_per_comparison\n",
    "stat_sig_tests = all_outcomes_argsorted[:largest_k]\n",
    "\n",
    "# Calculate FDR, which, on average will be less than alpha\n",
    "(stat_sig_tests < len(null_true_outcomes)).sum() / len(stat_sig_tests)"
   ]
  },
  {
   "cell_type": "markdown",
   "id": "55041d4b",
   "metadata": {},
   "source": [
    "In general, the above will result in a value less than the upper bound on the FDR we wanted, i.e., $\\alpha$."
   ]
  },
  {
   "cell_type": "markdown",
   "id": "fecad27c",
   "metadata": {},
   "source": [
    "Now, we with the indices / specific declared significant tests, we can compare this procedure's corrective consequences to the Bonferroni correction above:"
   ]
  },
  {
   "cell_type": "code",
   "execution_count": 27,
   "id": "97eeb8aa",
   "metadata": {},
   "outputs": [
    {
     "data": {
      "text/plain": [
       "0.62"
      ]
     },
     "execution_count": 27,
     "metadata": {},
     "output_type": "execute_result"
    }
   ],
   "source": [
    "# Power = 1 - beta\n",
    "(stat_sig_tests >= len(null_true_outcomes)).sum() / len(null_false_outcomes)"
   ]
  },
  {
   "cell_type": "markdown",
   "id": "b20ae57e",
   "metadata": {},
   "source": [
    "Just of curiousity, let's see the proportion of Type I errors in the case where the null hypothesis was true:"
   ]
  },
  {
   "cell_type": "code",
   "execution_count": 28,
   "id": "d7fdd834",
   "metadata": {},
   "outputs": [
    {
     "data": {
      "text/plain": [
       "0.0044444444444444444"
      ]
     },
     "execution_count": 28,
     "metadata": {},
     "output_type": "execute_result"
    }
   ],
   "source": [
    "# P(Type I error)\n",
    "(stat_sig_tests < len(null_true_outcomes)).sum() / len(null_true_outcomes)"
   ]
  },
  {
   "cell_type": "markdown",
   "id": "276b4075",
   "metadata": {},
   "source": [
    "Geometrically, this corresponds to plotting $P_{(k)}$ vs. $k$, drawing the line through the origin with slope $\\frac {\\alpha}{m}$, and declaring discoveries for all points on the left up to and including the last point that is below the line.[1] Luckily, we've already done all the heavy-lifting.\n",
    "\n",
    "[1]: https://en.wikipedia.org/wiki/False_discovery_rate"
   ]
  },
  {
   "cell_type": "code",
   "execution_count": 32,
   "id": "8738ae34",
   "metadata": {},
   "outputs": [
    {
     "data": {
      "image/png": "[encoded data removed]",
      "text/plain": [
       "<Figure size 720x576 with 1 Axes>"
      ]
     },
     "metadata": {
      "image/png": {
       "height": 496,
       "width": 656
      },
      "needs_background": "light"
     },
     "output_type": "display_data"
    }
   ],
   "source": [
    "# Organize our data for the plot\n",
    "x = k\n",
    "y = all_outcomes_sorted\n",
    "bh_line = x * alpha / m\n",
    "\n",
    "# Conditional colors\n",
    "color = np.where(y < bh_line, 'r' , 'grey')\n",
    "\n",
    "# Plot data\n",
    "plt.figure(figsize=(10,8))\n",
    "plt.scatter(x, y, c=color, alpha=0.6, edgecolors=None)\n",
    "plt.plot(x, bh_line, label=r'$\\frac{k \\alpha}{m}$')\n",
    "plt.vlines(largest_k, 0, (largest_k + 0.5) * alpha / m, \n",
    "           linestyle=\"dashed\", lw=0.5, color='k', alpha=0.3)\n",
    "plt.hlines((largest_k) * alpha / m, 0, largest_k, \n",
    "           linestyle=\"dashed\", lw=1, color='k')\n",
    "\n",
    "# Cosmetic tweaks\n",
    "ax = plt.gca()\n",
    "ax.spines['right'].set_visible(False)\n",
    "ax.spines['top'].set_visible(False)\n",
    "plt.xlim(left=0, right=largest_k * 4)\n",
    "plt.ylim(bottom=0, top = .01)\n",
    "plt.ylabel('$p$-value')\n",
    "plt.xlabel('Ordered $k$th Test')\n",
    "plt.title('Benjamini-Hochberg Correction', fontsize=14, fontweight='bold')\n",
    "\n",
    "# Identify \"boundary\" p-value\n",
    "y_ticks = ax.get_yticks() \n",
    "y_ticks = np.append(y_ticks, largest_k * alpha / m)\n",
    "y_ticks_lst = y_ticks.tolist()\n",
    "y_ticks_lst[-1]= \"$\\\\alpha_{per\\ comparison}$\"\n",
    "ax.set_yticks(y_ticks)\n",
    "ax.set_yticklabels(y_ticks_lst)\n",
    "\n",
    "# Show plot\n",
    "plt.legend()\n",
    "plt.show()"
   ]
  },
  {
   "cell_type": "markdown",
   "id": "a1a59e2f",
   "metadata": {},
   "source": [
    "### Class Imbalance Problem\n",
    "\n",
    "This problem is when the ratio of units in the Control (A) vs. Treatment (B) begins to stray away from 1 (50/50 split)."
   ]
  }
 ],
 "metadata": {
  "kernelspec": {
   "display_name": "Python 3",
   "language": "python",
   "name": "python3"
  },
  "language_info": {
   "codemirror_mode": {
    "name": "ipython",
    "version": 3
   },
   "file_extension": ".py",
   "mimetype": "text/x-python",
   "name": "python",
   "nbconvert_exporter": "python",
   "pygments_lexer": "ipython3",
   "version": "3.8.6"
  }
 },
 "nbformat": 4,
 "nbformat_minor": 5
}
