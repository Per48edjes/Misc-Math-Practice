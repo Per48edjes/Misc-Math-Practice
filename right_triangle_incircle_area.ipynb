{
 "cells": [
  {
   "cell_type": "markdown",
   "id": "0ab6f88e-bd98-4b23-9c7f-75e07db8d99c",
   "metadata": {},
   "source": [
    "# Incircle Area of Right Isoceles Triangle\n",
    "Ravi Dayabhai"
   ]
  },
  {
   "cell_type": "code",
   "execution_count": 1,
   "id": "26445a1a-d0de-48b4-abd6-63c1515dae75",
   "metadata": {},
   "outputs": [],
   "source": [
    "# Import dependencies\n",
    "from sympy import Polygon"
   ]
  },
  {
   "cell_type": "markdown",
   "id": "74af7199-56a1-46c9-94c0-6be30c3802e1",
   "metadata": {},
   "source": [
    "## Numerical Solution\n",
    "\n",
    "We quickly use SymPy to check our analytical answer (see next section):"
   ]
  },
  {
   "cell_type": "code",
   "execution_count": 2,
   "id": "e2f5c849-aeb6-4892-b878-250e62c8206f",
   "metadata": {},
   "outputs": [],
   "source": [
    "# Parameterize right triangle (non-hypotenuse) side lengths\n",
    "leg_CA_length = leg_CB_length = 2\n",
    "\n",
    "# Define enclosing triangle\n",
    "right_triangle_points = [(0, leg_CA_length), (0, 0), (leg_CB_length, 0)]\n",
    "right_triangle = Polygon(*right_triangle_points)"
   ]
  },
  {
   "cell_type": "code",
   "execution_count": 3,
   "id": "13573aed-f291-4af0-822a-794952ab30df",
   "metadata": {},
   "outputs": [
    {
     "data": {
      "text/latex": [
       "$\\displaystyle \\pi \\left(2 - \\sqrt{2}\\right)^{2}$"
      ],
      "text/plain": [
       "pi*(2 - sqrt(2))**2"
      ]
     },
     "execution_count": 3,
     "metadata": {},
     "output_type": "execute_result"
    }
   ],
   "source": [
    "# Calculate area of incircle\n",
    "right_triangle.incircle.area"
   ]
  },
  {
   "attachments": {
    "2ac563ce-338e-41dd-973f-ccda6c0313ef.png": {
     "image/png": "[encoded data removed]"
    }
   },
   "cell_type": "markdown",
   "id": "437e0c88-c099-4a43-86bf-ce3a9a2b7512",
   "metadata": {},
   "source": [
    "## Analytical Solution\n",
    "\n",
    "Note that symmetry plays a big part in solving this problem analytically:\n",
    "\n",
    "- Symmetry implies that the altitude of the right isoceles triangle divides the enclosing triangle into two congruent triangles\n",
    "- Symmetry also implies that the altitude is colinear with the incircle radius bisecting the hypotenuse\n",
    "\n",
    "![incircle.png](attachment:2ac563ce-338e-41dd-973f-ccda6c0313ef.png)\n",
    "\n",
    "The general strategy is to solve for $r$ understanding that the total area of the enclosing triangle (which is $2$) is made up of:\n",
    "\n",
    "1. The area small square in the lower-left corner whose bounds are determined by points $C$ and $I$ in the diagram above is $r^{2}$, which when scaled by $\\pi$ gives us the area of the incircle\n",
    "2. The remaining area comprises $4$ congruent right triangles whose total area is $4(r - \\frac{r^{2}}{2})$\n",
    "\n",
    "This produces a quadratic:\n",
    "\n",
    "$$\n",
    "\\begin{align}\n",
    "r^{2} &= 2 - 4(r - \\frac{r^{2}}{2})\\\\\n",
    "0 &= r^{2} - 4r + 2\\\\\n",
    "r &= 2 \\pm \\sqrt{2} \n",
    "\\end{align}\n",
    "$$\n",
    "\n",
    "The geometry of the problem necessitates that $r < 2$, so $r = 2 - \\sqrt{2} \\iff r^{2} = (2-\\sqrt{2})^{2}$. Scaling this quantity by $\\pi$ gives us the incircle's area: $\\bbox[border: 2px solid red]{\\pi(2-\\sqrt{2})^{2}}$."
   ]
  }
 ],
 "metadata": {
  "kernelspec": {
   "display_name": "Python 3 (ipykernel)",
   "language": "python",
   "name": "python3"
  },
  "language_info": {
   "codemirror_mode": {
    "name": "ipython",
    "version": 3
   },
   "file_extension": ".py",
   "mimetype": "text/x-python",
   "name": "python",
   "nbconvert_exporter": "python",
   "pygments_lexer": "ipython3",
   "version": "3.8.6"
  }
 },
 "nbformat": 4,
 "nbformat_minor": 5
}
