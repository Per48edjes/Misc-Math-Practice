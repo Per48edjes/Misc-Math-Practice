{
 "cells": [
  {
   "cell_type": "markdown",
   "id": "becf4fab-579a-484f-885c-98c78091b41c",
   "metadata": {},
   "source": [
    "# Sum of Permutations of a Set\n",
    "\n",
    "Ravi Dayabhai"
   ]
  },
  {
   "cell_type": "markdown",
   "id": "325b4b3f-bf73-4da7-9866-f0b09149fdca",
   "metadata": {},
   "source": [
    "Consider the following question (from [this YouTube video](https://www.youtube.com/watch?v=wamTGA2R68s) from MindYourDecisions):\n",
    "\n",
    "Let $S$ be the set $\\lbrace 1, 2, 3, 4, 5 \\rbrace$. Consider the five digit base-$10$ numbers that can be formed by elements from this set such that each digit is unique. What is the sum of all such five digit numbers?"
   ]
  },
  {
   "cell_type": "markdown",
   "id": "d4efd21c-ce03-490a-bb07-50e6138f918b",
   "metadata": {},
   "source": [
    "## Numerical Answer\n",
    "\n",
    "Given that $5!$ is a relatively small number, we can brute force a solution:"
   ]
  },
  {
   "cell_type": "code",
   "execution_count": 1,
   "id": "bf5a6fbe-8a45-45fd-a31f-d7c04fb772d7",
   "metadata": {},
   "outputs": [],
   "source": [
    "from itertools import permutations\n",
    "from functools import partial\n",
    "from math import factorial"
   ]
  },
  {
   "cell_type": "code",
   "execution_count": 2,
   "id": "7dd6a172-79dd-4eb1-91f2-52e6319ab3db",
   "metadata": {},
   "outputs": [
    {
     "data": {
      "text/plain": [
       "3999960"
      ]
     },
     "execution_count": 2,
     "metadata": {},
     "output_type": "execute_result"
    }
   ],
   "source": [
    "S = \"12345\"\n",
    "P = permutations(S)\n",
    "total = sum(map(lambda p: int(''.join(partial(map, str)(p))), P))\n",
    "\n",
    "total"
   ]
  },
  {
   "cell_type": "markdown",
   "id": "a3fbc240-4819-4869-9649-3fe92ec9aab6",
   "metadata": {},
   "source": [
    "## Analytical Answer\n",
    "\n",
    "We can leverage symmetry. Let $d_{i}$ be the digit in the $i$th position where $i \\in \\lbrace 0, 1, 2, 3, 4 \\rbrace$ and $i = 0$ corresponding to the most significant digit. The sum of any permutation is given by:\n",
    "\n",
    "$$\n",
    "10000d_{0} + 1000d_{1} + 100d_{2} + 10d_{3} + 1d_{4}\n",
    "$$\n",
    "\n",
    "If we let $D_{i}$ be the sum of $d_{i}$ over the set of permutations, the total sum we desire can be expressed as \n",
    "\n",
    "$$\n",
    "10000D_{0} + 1000D_{1} + 100D_{2} + 10D_{3} + 1D_{4}\n",
    "$$\n",
    "\n",
    "Each element in $S$ will occur in $i$th place for $4!$ permutations. Thus, $D_{i} = (1 + 2 + 3 + 4 + 5)(4!) = 15(24) = 360$ for all $i$, giving:\n",
    "\n",
    "$$\n",
    "10000(360) + 1000(360) + 100(360) + 10(360) + 1(360) = 3999960\n",
    "$$"
   ]
  },
  {
   "cell_type": "code",
   "execution_count": 3,
   "id": "1593b7a9-c3e2-46a7-aac0-8dfd85d5bf8a",
   "metadata": {},
   "outputs": [
    {
     "data": {
      "text/plain": [
       "3999960"
      ]
     },
     "execution_count": 3,
     "metadata": {},
     "output_type": "execute_result"
    }
   ],
   "source": [
    "D = 15 * factorial(4)\n",
    "total = sum([D * 10**k for k in range(5)])\n",
    "\n",
    "total"
   ]
  }
 ],
 "metadata": {
  "kernelspec": {
   "display_name": "Python 3 (ipykernel)",
   "language": "python",
   "name": "python3"
  },
  "language_info": {
   "codemirror_mode": {
    "name": "ipython",
    "version": 3
   },
   "file_extension": ".py",
   "mimetype": "text/x-python",
   "name": "python",
   "nbconvert_exporter": "python",
   "pygments_lexer": "ipython3",
   "version": "3.8.16"
  }
 },
 "nbformat": 4,
 "nbformat_minor": 5
}
